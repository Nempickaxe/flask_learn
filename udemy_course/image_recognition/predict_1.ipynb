{
 "cells": [
  {
   "cell_type": "code",
   "execution_count": 2,
   "metadata": {},
   "outputs": [],
   "source": [
    "from keras.models import load_model\n",
    "import pandas as pd, numpy as np\n",
    "from PIL import Image\n",
    "from flasgger import Swagger\n",
    "from flask import Flask, request"
   ]
  },
  {
   "cell_type": "code",
   "execution_count": 13,
   "metadata": {},
   "outputs": [],
   "source": [
    "app = Flask(__name__)\n",
    "swagger = Swagger(app)"
   ]
  },
  {
   "cell_type": "code",
   "execution_count": 14,
   "metadata": {},
   "outputs": [],
   "source": [
    "model = load_model('./model.h5')"
   ]
  },
  {
   "cell_type": "code",
   "execution_count": 15,
   "metadata": {},
   "outputs": [],
   "source": [
    "@app.route('/predict_digit', methods=['POST'])\n",
    "def predict_digit():\n",
    "    \"\"\"\n",
    "    Example Endpoint returning prediciton of MNIST\n",
    "    ---\n",
    "    parameters:\n",
    "        - name: image\n",
    "          in: formData\n",
    "          type: file\n",
    "          required: true\n",
    "    \"\"\"\n",
    "    im = Image.open(request.files['image'])\n",
    "    im2arr = np.array(im).reshape((1,1,28,28))\n",
    "    return str(np.argmax(model.predict(im2arr)))"
   ]
  },
  {
   "cell_type": "code",
   "execution_count": 16,
   "metadata": {},
   "outputs": [
    {
     "name": "stderr",
     "output_type": "stream",
     "text": [
      " * Running on http://localhost:5000/ (Press CTRL+C to quit)\n",
      "127.0.0.1 - - [13/Feb/2019 16:01:05] \"\u001b[37mGET /apidocs/ HTTP/1.1\u001b[0m\" 200 -\n",
      "127.0.0.1 - - [13/Feb/2019 16:01:06] \"\u001b[37mGET /apidocs/ HTTP/1.1\u001b[0m\" 200 -\n",
      "127.0.0.1 - - [13/Feb/2019 16:01:06] \"\u001b[37mGET /flasgger_static/css/typography.css HTTP/1.1\u001b[0m\" 200 -\n",
      "127.0.0.1 - - [13/Feb/2019 16:01:06] \"\u001b[37mGET /flasgger_static/css/reset.css HTTP/1.1\u001b[0m\" 200 -\n",
      "127.0.0.1 - - [13/Feb/2019 16:01:06] \"\u001b[37mGET /flasgger_static/css/screen.css HTTP/1.1\u001b[0m\" 200 -\n",
      "127.0.0.1 - - [13/Feb/2019 16:01:06] \"\u001b[37mGET /flasgger_static/lib/object-assign-pollyfill.js HTTP/1.1\u001b[0m\" 200 -\n",
      "127.0.0.1 - - [13/Feb/2019 16:01:06] \"\u001b[37mGET /flasgger_static/lib/jquery-1.8.0.min.js HTTP/1.1\u001b[0m\" 200 -\n",
      "127.0.0.1 - - [13/Feb/2019 16:01:06] \"\u001b[37mGET /flasgger_static/lib/jquery.slideto.min.js HTTP/1.1\u001b[0m\" 200 -\n",
      "127.0.0.1 - - [13/Feb/2019 16:01:06] \"\u001b[37mGET /flasgger_static/lib/jquery.wiggle.min.js HTTP/1.1\u001b[0m\" 200 -\n",
      "127.0.0.1 - - [13/Feb/2019 16:01:06] \"\u001b[37mGET /flasgger_static/lib/jquery.ba-bbq.min.js HTTP/1.1\u001b[0m\" 200 -\n",
      "127.0.0.1 - - [13/Feb/2019 16:01:06] \"\u001b[37mGET /flasgger_static/swagger-ui.js HTTP/1.1\u001b[0m\" 200 -\n",
      "127.0.0.1 - - [13/Feb/2019 16:01:06] \"\u001b[37mGET /flasgger_static/lib/highlight.9.1.0.pack_extended.js HTTP/1.1\u001b[0m\" 200 -\n",
      "127.0.0.1 - - [13/Feb/2019 16:01:06] \"\u001b[37mGET /flasgger_static/lib/jsoneditor.min.js HTTP/1.1\u001b[0m\" 200 -\n",
      "127.0.0.1 - - [13/Feb/2019 16:01:06] \"\u001b[37mGET /flasgger_static/lib/handlebars-4.0.5.js HTTP/1.1\u001b[0m\" 200 -\n",
      "127.0.0.1 - - [13/Feb/2019 16:01:06] \"\u001b[37mGET /flasgger_static/lib/lodash.min.js HTTP/1.1\u001b[0m\" 200 -\n",
      "127.0.0.1 - - [13/Feb/2019 16:01:06] \"\u001b[37mGET /flasgger_static/lib/backbone-min.js HTTP/1.1\u001b[0m\" 200 -\n",
      "127.0.0.1 - - [13/Feb/2019 16:01:06] \"\u001b[37mGET /flasgger_static/lib/highlight.9.1.0.pack.js HTTP/1.1\u001b[0m\" 200 -\n",
      "127.0.0.1 - - [13/Feb/2019 16:01:06] \"\u001b[37mGET /flasgger_static/lib/marked.js HTTP/1.1\u001b[0m\" 200 -\n",
      "127.0.0.1 - - [13/Feb/2019 16:01:06] \"\u001b[37mGET /flasgger_static/lib/swagger-oauth.js HTTP/1.1\u001b[0m\" 200 -\n",
      "127.0.0.1 - - [13/Feb/2019 16:01:06] \"\u001b[37mGET /flasgger_static/images/logo_small.png HTTP/1.1\u001b[0m\" 200 -\n",
      "127.0.0.1 - - [13/Feb/2019 16:01:06] \"\u001b[37mGET /flasgger_static/css/print.css HTTP/1.1\u001b[0m\" 200 -\n",
      "127.0.0.1 - - [13/Feb/2019 16:01:07] \"\u001b[37mGET /apispec_1.json HTTP/1.1\u001b[0m\" 200 -\n",
      "127.0.0.1 - - [13/Feb/2019 16:01:30] \"\u001b[37mPOST /predict_digit HTTP/1.1\u001b[0m\" 200 -\n"
     ]
    }
   ],
   "source": [
    "if __name__=='__main__':\n",
    "    app.run('localhost', port=5000)"
   ]
  },
  {
   "cell_type": "code",
   "execution_count": 18,
   "metadata": {},
   "outputs": [
    {
     "name": "stdout",
     "output_type": "stream",
     "text": [
      "[NbConvertApp] Converting notebook predict_1.ipynb to script\n",
      "[NbConvertApp] Writing 767 bytes to predict_1.py\n"
     ]
    }
   ],
   "source": [
    "!jupyter nbconvert --to script predict_1.ipynb"
   ]
  }
 ],
 "metadata": {
  "kernelspec": {
   "display_name": "Python 3",
   "language": "python",
   "name": "python3"
  },
  "language_info": {
   "codemirror_mode": {
    "name": "ipython",
    "version": 3
   },
   "file_extension": ".py",
   "mimetype": "text/x-python",
   "name": "python",
   "nbconvert_exporter": "python",
   "pygments_lexer": "ipython3",
   "version": "3.6.3"
  }
 },
 "nbformat": 4,
 "nbformat_minor": 2
}
