{
 "cells": [
  {
   "cell_type": "code",
   "execution_count": 9,
   "metadata": {},
   "outputs": [],
   "source": [
    "from flask import Flask, request, make_response\n",
    "from stemming.porter2 import stem\n",
    "import pandas as pd\n",
    "from sklearn.feature_extraction.text import CountVectorizer\n",
    "from sklearn.cluster import KMeans"
   ]
  },
  {
   "cell_type": "code",
   "execution_count": 4,
   "metadata": {},
   "outputs": [],
   "source": [
    "app =Flask(__name__)"
   ]
  },
  {
   "cell_type": "code",
   "execution_count": 8,
   "metadata": {},
   "outputs": [],
   "source": [
    "def cleanse_text(text):\n",
    "    if text:\n",
    "        #white space\n",
    "        clean = ' '.join(text.split())\n",
    "        #stemming\n",
    "        red_text = [stem(word) for word in clean.split()]\n",
    "        return ' '.join(red_text)\n",
    "    else:\n",
    "        return text"
   ]
  },
  {
   "cell_type": "code",
   "execution_count": 10,
   "metadata": {},
   "outputs": [],
   "source": [
    "def cluster():\n",
    "    data = pd.read_csv(request.files['dataset'])\n",
    "    \n",
    "    unstructure = 'text'\n",
    "    if 'col' in request.args:\n",
    "        unstructure = request.args.get('col')\n",
    "        \n",
    "    no_of_cluster = 2\n",
    "    if 'no_of_cluster' in request.args:\n",
    "        no_of_cluster = int(request.args.get('no_of_cluster'))\n",
    "        \n",
    "    data = data.fillna('NULL')\n",
    "    data['clean_sum'] = data[unstructure].apply(cleanse_text)\n",
    "    \n",
    "    vectorizer = CountVectorizer(analyzer='word',\n",
    "                                 stop_words='english')\n",
    "    \n",
    "    counts = vectorizer.fit_transform(data['clean_sum'])\n",
    "    \n",
    "    kmeans = KMeans(n_clusters=no_of_cluster)\n",
    "    \n",
    "    data['cluster_num'] = kmeans.fit_predict(counts)\n",
    "    data.drop('clean_sum', axis=1, inplace=True)\n",
    "    \n",
    "    return 'cool stuff!!'"
   ]
  },
  {
   "cell_type": "code",
   "execution_count": null,
   "metadata": {},
   "outputs": [],
   "source": [
    "!jupyter nbconvert --to script text_cluster_api.ipynb"
   ]
  }
 ],
 "metadata": {
  "kernelspec": {
   "display_name": "Python 3",
   "language": "python",
   "name": "python3"
  },
  "language_info": {
   "codemirror_mode": {
    "name": "ipython",
    "version": 3
   },
   "file_extension": ".py",
   "mimetype": "text/x-python",
   "name": "python",
   "nbconvert_exporter": "python",
   "pygments_lexer": "ipython3",
   "version": "3.6.3"
  }
 },
 "nbformat": 4,
 "nbformat_minor": 2
}
