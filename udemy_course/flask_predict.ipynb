{
 "cells": [
  {
   "cell_type": "code",
   "execution_count": 1,
   "metadata": {},
   "outputs": [],
   "source": [
    "import pickle\n",
    "from flask import Flask, request\n",
    "import numpy as np\n",
    "import pandas as pd\n",
    "from flasgger import Swagger\n",
    "import json"
   ]
  },
  {
   "cell_type": "code",
   "execution_count": 2,
   "metadata": {},
   "outputs": [],
   "source": [
    "with open('./model/rf.pkl', 'rb') as file:\n",
    "    model = pickle.load(file)"
   ]
  },
  {
   "cell_type": "code",
   "execution_count": 3,
   "metadata": {},
   "outputs": [],
   "source": [
    "app = Flask(__name__)\n",
    "swagger = Swagger(app)"
   ]
  },
  {
   "cell_type": "code",
   "execution_count": 4,
   "metadata": {},
   "outputs": [],
   "source": [
    "@app.route('/predict')\n",
    "def prediction():\n",
    "    \"\"\"Example endpoint returning a prediction of iris\n",
    "    ---\n",
    "    parameters:\n",
    "      - name: s_length\n",
    "        in: query\n",
    "        type: number\n",
    "        required: true\n",
    "      - name: s_width\n",
    "        in: query\n",
    "        type: number\n",
    "        required: true\n",
    "      - name: p_length\n",
    "        in: query\n",
    "        type: number\n",
    "        required: true\n",
    "      - name: p_width\n",
    "        in: query\n",
    "        type: number\n",
    "        required: true\n",
    "    \"\"\"\n",
    "    s_length = request.args.get('s_length')\n",
    "    s_width = request.args.get('s_width')\n",
    "    p_length = request.args.get('p_length')\n",
    "    p_width = request.args.get('p_width')\n",
    "    \n",
    "    prediction = model.predict(np.array([[s_length, s_width, p_length, p_width]]))\n",
    "    return str(prediction)"
   ]
  },
  {
   "cell_type": "code",
   "execution_count": 5,
   "metadata": {},
   "outputs": [],
   "source": [
    "@app.route('/predict_file', methods=[\"POST\"])\n",
    "def predict_iris_file():\n",
    "    \"\"\"Example file endpoint returning a prediction of iris\n",
    "    ---\n",
    "    parameters:\n",
    "      - name: input_file\n",
    "        in: formData\n",
    "        type: file\n",
    "        required: true\n",
    "    \"\"\"\n",
    "    input_data = pd.read_csv(request.files.get(\"input_file\"), header=None)\n",
    "    prediction = model.predict(input_data)\n",
    "    return str(list(prediction))"
   ]
  },
  {
   "cell_type": "code",
   "execution_count": 6,
   "metadata": {},
   "outputs": [
    {
     "name": "stderr",
     "output_type": "stream",
     "text": [
      " * Running on http://localhost:5000/ (Press CTRL+C to quit)\n",
      "127.0.0.1 - - [07/Feb/2019 20:18:26] \"\u001b[37mGET /apidocs/ HTTP/1.1\u001b[0m\" 200 -\n",
      "127.0.0.1 - - [07/Feb/2019 20:18:27] \"\u001b[37mGET /apispec_1.json HTTP/1.1\u001b[0m\" 200 -\n",
      "127.0.0.1 - - [07/Feb/2019 20:18:27] \"\u001b[37mGET /flasgger_static/images/favicon-32x32.png HTTP/1.1\u001b[0m\" 200 -\n",
      "127.0.0.1 - - [07/Feb/2019 20:18:32] \"\u001b[37mGET /predict?s_length=1&s_width=1&p_length=1&p_width=1 HTTP/1.1\u001b[0m\" 200 -\n",
      "127.0.0.1 - - [07/Feb/2019 20:18:58] \"\u001b[37mPOST /predict_file HTTP/1.1\u001b[0m\" 200 -\n"
     ]
    }
   ],
   "source": [
    "if __name__ == '__main__':\n",
    "    app.run(host='localhost', port=5000)"
   ]
  },
  {
   "cell_type": "code",
   "execution_count": null,
   "metadata": {},
   "outputs": [],
   "source": []
  }
 ],
 "metadata": {
  "kernelspec": {
   "display_name": "Python 3",
   "language": "python",
   "name": "python3"
  },
  "language_info": {
   "codemirror_mode": {
    "name": "ipython",
    "version": 3
   },
   "file_extension": ".py",
   "mimetype": "text/x-python",
   "name": "python",
   "nbconvert_exporter": "python",
   "pygments_lexer": "ipython3",
   "version": "3.6.3"
  }
 },
 "nbformat": 4,
 "nbformat_minor": 2
}
